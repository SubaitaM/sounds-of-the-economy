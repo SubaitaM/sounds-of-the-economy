{
 "cells": [
  {
   "cell_type": "markdown",
   "id": "5fa1afa2",
   "metadata": {},
   "source": [
    "Hello"
   ]
  },
  {
   "cell_type": "code",
   "execution_count": 25,
   "id": "d04eabf0",
   "metadata": {},
   "outputs": [],
   "source": [
    "import pandas as pd             \n",
    "import numpy as np              \n",
    "import matplotlib.pyplot as plt \n",
    "import seaborn as sns            \n",
    "from sklearn.model_selection import train_test_split  #Splitting data\n",
    "from sklearn.linear_model import LinearRegression      #Linear regression model\n",
    "from sklearn.metrics import mean_squared_error, r2_score \n",
    "from sklearn import preprocessing #Normalizing"
   ]
  },
  {
   "cell_type": "markdown",
   "id": "648293bd",
   "metadata": {},
   "source": [
    "Cleaning the dataset that contains socioeconomic context of each decade. \n",
    "Many economic indicators have missing data and the years 1960-1969 does not have data on most of the indicators. These rows and columns have been removed for analysis."
   ]
  },
  {
   "cell_type": "code",
   "execution_count": 38,
   "id": "f49b00da",
   "metadata": {},
   "outputs": [
    {
     "name": "stdout",
     "output_type": "stream",
     "text": [
      "[-0.110361561155674, 0.08375077950419749, 0.010650120598319601, 0.08375834030520272, 0.13048596902642845, 0.15358285048033468, -0.016985450419237255, 0.09106426123820481, 0.02021202778207233, -0.14197747261123045, -0.033529103240986596, 0.06651888178127924, 0.10314698499604742, -0.17832483411807318, -0.22640723350895142, 0.03468761141991075, 0.011273593396185028, 0.06890324406657589, -0.029776626501255815, -0.1987577139643122, -0.08853995000165753, -0.31904308701689743, -0.03762737700624144, 0.12306871399450095, -0.005109747775486478, -0.033462868629977424, -0.016031085662662523, 0.02910576237190829, 0.009620926239442273, -0.08237618642207764, -0.2024713055426304, -0.06189912686022832, -0.07990568505091028, -0.004405297096265359, -0.05148209014545768, 0.0010244059144669526, 0.03769081406457074, 0.05101895239028362, 0.07104144255845879, 0.04647032160177815, -0.09878013664435355, -0.08526473055674459, -0.03882613741167654, 0.013406032842312746, 0.0068723435243635, -0.015959633732939224, -0.049281470998029125, -0.15505977386194086, -0.3402620263262033, -0.11663531936027227, -0.14726116029188796, -0.09793728818422594, -0.08934476067699372, -0.04869431626012892, -0.012230245561790073, -0.052335252769152726, -0.009877626946817167, 0.026500945369272846, 0.017637969993913274, -0.3016018770428953, 0.14861663077023612, 0.01884497473962067, 0.029899175138367623]\n"
     ]
    }
   ],
   "source": [
    "economics_data = pd.read_csv('data_files/socioeconomic_context_Data.csv')\n",
    "\n",
    "\n",
    "economics_data = economics_data.iloc[[1,5],].reset_index(drop=True)\n",
    "economics_data.drop(list(economics_data.columns)[0:2], axis=1, inplace=True)\n",
    "economics_data.drop(list(economics_data.columns)[1:3], axis=1, inplace=True)\n",
    "economics_data.drop(list(economics_data.columns)[-1:], axis=1, inplace=True)\n",
    "\n",
    "GDP_growth = np.array(economics_data.iloc[0][1:])\n",
    "normalized_GDP_growth = preprocessing.normalize([GDP_growth]).tolist()[0]\n",
    "\n",
    "unexployment_rate = np.array(economics_data.iloc[1][1:])\n",
    "normalized_unemployment_rate = preprocessing.normalize([unexployment_rate]).tolist()[0]\n",
    "\n",
    "economic_score = []\n",
    "for index in range(len(normalized_GDP_growth)):\n",
    "    score = normalized_GDP_growth[index] - normalized_unemployment_rate[index]\n",
    "    economic_score.append(score)\n",
    "\n",
    "print(economic_score)\n",
    "\n",
    "\n",
    "\n"
   ]
  }
 ],
 "metadata": {
  "kernelspec": {
   "display_name": "Python 3",
   "language": "python",
   "name": "python3"
  },
  "language_info": {
   "codemirror_mode": {
    "name": "ipython",
    "version": 3
   },
   "file_extension": ".py",
   "mimetype": "text/x-python",
   "name": "python",
   "nbconvert_exporter": "python",
   "pygments_lexer": "ipython3",
   "version": "3.11.5"
  }
 },
 "nbformat": 4,
 "nbformat_minor": 5
}
