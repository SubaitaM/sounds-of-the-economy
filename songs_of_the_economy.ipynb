{
 "cells": [
  {
   "cell_type": "markdown",
   "id": "5fa1afa2",
   "metadata": {},
   "source": [
    "Hello"
   ]
  },
  {
   "cell_type": "code",
   "execution_count": 26,
   "id": "d04eabf0",
   "metadata": {},
   "outputs": [],
   "source": [
    "import pandas as pd              # Data manipulation and cleaning\n",
    "import numpy as np               # Numerical operations\n",
    "import matplotlib.pyplot as plt  # Data visualization\n",
    "import seaborn as sns            # Advanced data visualization\n",
    "from sklearn.model_selection import train_test_split  # Splitting data\n",
    "from sklearn.linear_model import LinearRegression      # Linear regression model\n",
    "from sklearn.metrics import mean_squared_error, r2_score  # Model evaluation"
   ]
  },
  {
   "cell_type": "markdown",
   "id": "648293bd",
   "metadata": {},
   "source": [
    "Cleaning the dataset that contains socioeconomic context of each decade. \n",
    "Many economic indicators have missing data and the years 1960-1969 does not have data on most of the indicators. These rows and columns have been removed for analysis."
   ]
  },
  {
   "cell_type": "code",
   "execution_count": 40,
   "id": "f49b00da",
   "metadata": {},
   "outputs": [
    {
     "name": "stdout",
     "output_type": "stream",
     "text": [
      "\n",
      "\n",
      "                                         Series Name       1970 [YR1970]  \\\n",
      "0                 GDP per capita (constant 2015 US$)    25231.1271579892   \n",
      "1                   GDP per capita growth (annual %)  -0.944145118142345   \n",
      "2  Unemployment, total (% of total labor force) (...                 4.9   \n",
      "3   Adjusted net national income (constant 2015 US$)    4622032752746.58   \n",
      "\n",
      "      1971 [YR1971]     1972 [YR1972]     1973 [YR1973]      1974 [YR1974]  \\\n",
      "0  25734.4828350051  26798.5336071197  28042.5519161527   27637.2997746126   \n",
      "1  1.99497895541521  4.13472762960374  4.64211336064473  -1.44513289215548   \n",
      "2               5.9               5.6               4.9                5.6   \n",
      "3  4745222546536.64  5003242746093.74  5276627789138.96   5046623725710.98   \n",
      "\n",
      "       1975 [YR1975]     1976 [YR1976]     1977 [YR1977]     1978 [YR1978]  \\\n",
      "0   27309.8688169354  28509.1430550141  29528.9663683544  30834.9992317542   \n",
      "1  -1.18474293924298  4.39135847234446  3.57717982393339  4.42288716478554   \n",
      "2                8.5               7.7               7.1               6.1   \n",
      "3   5028799910376.96  5281736387992.06  5494782107663.03  5777022725780.74   \n",
      "\n",
      "   ... 2012 [YR2012] 2013 [YR2013] 2014 [YR2014] 2015 [YR2015] 2016 [YR2016]  \\\n",
      "0  ...  5.408023e+04  5.484424e+04  5.581756e+04  5.704021e+04  5.765867e+04   \n",
      "1  ...  1.541466e+00  1.412742e+00  1.774700e+00  2.190431e+00  1.084257e+00   \n",
      "2  ...  8.069000e+00  7.375000e+00  6.168000e+00  5.280000e+00  4.869000e+00   \n",
      "3  ...  1.450529e+13  1.470996e+13  1.520268e+13  1.574122e+13  1.582809e+13   \n",
      "\n",
      "  2017 [YR2017] 2018 [YR2018]     2019 [YR2019]      2020 [YR2020]  \\\n",
      "0  5.870314e+04  6.012721e+04  61400.5481543687   59493.1459820135   \n",
      "1  1.811476e+00  2.425877e+00  2.11773982573379  -3.10649046252769   \n",
      "2  4.355000e+00  3.896000e+00             3.669              8.055   \n",
      "3  1.625349e+13  1.674034e+13  17135603502143.5   16467097121559.1   \n",
      "\n",
      "      2021 [YR2021]  \n",
      "0  62996.2893837444  \n",
      "1  5.88831426529379  \n",
      "2             5.349  \n",
      "3  17373020331178.6  \n",
      "\n",
      "[4 rows x 53 columns]\n"
     ]
    }
   ],
   "source": [
    "economics_data = pd.read_csv('data_files/socioeconomic_context_Data.csv')\n",
    "#print(economics_data.head(5))\n",
    "#print(economics_data.describe(include='all'))\n",
    "print('\\n')\n",
    "#print(economics_data.info())\n",
    "\n",
    "economics_data=economics_data.drop([2,3,4,6,8,9,10,11,12,13,14,15,16,17,18,19,20]).reset_index()\n",
    "\n",
    "economics_data.drop(list(economics_data.columns)[0:3], axis=1, inplace=True)\n",
    "\n",
    "economics_data.drop(list(economics_data.columns)[1:12], axis=1, inplace=True)\n",
    "\n",
    "economics_data.drop(list(economics_data.columns)[-3:], axis=1, inplace=True)\n",
    "\n",
    "print(economics_data)"
   ]
  }
 ],
 "metadata": {
  "kernelspec": {
   "display_name": "Python 3",
   "language": "python",
   "name": "python3"
  },
  "language_info": {
   "codemirror_mode": {
    "name": "ipython",
    "version": 3
   },
   "file_extension": ".py",
   "mimetype": "text/x-python",
   "name": "python",
   "nbconvert_exporter": "python",
   "pygments_lexer": "ipython3",
   "version": "3.11.5"
  }
 },
 "nbformat": 4,
 "nbformat_minor": 5
}
