{
 "cells": [
  {
   "cell_type": "markdown",
   "id": "5fa1afa2",
   "metadata": {},
   "source": [
    "Hello"
   ]
  },
  {
   "cell_type": "code",
   "execution_count": 25,
   "id": "d04eabf0",
   "metadata": {},
   "outputs": [],
   "source": [
    "import pandas as pd             \n",
    "import numpy as np              \n",
    "import matplotlib.pyplot as plt \n",
    "import seaborn as sns            \n",
    "from sklearn.model_selection import train_test_split  #Splitting data\n",
    "from sklearn.linear_model import LinearRegression      #Linear regression model\n",
    "from sklearn.metrics import mean_squared_error, r2_score \n",
    "from sklearn import preprocessing #Normalizing"
   ]
  },
  {
   "cell_type": "markdown",
   "id": "648293bd",
   "metadata": {},
   "source": [
    "Cleaning the dataset that contains socioeconomic context of each decade. \n",
    "Many economic indicators have missing data and the years 1960-1969 does not have data on most of the indicators. These rows and columns have been removed for analysis."
   ]
  },
  {
   "cell_type": "code",
   "execution_count": 42,
   "id": "f49b00da",
   "metadata": {},
   "outputs": [
    {
     "name": "stdout",
     "output_type": "stream",
     "text": [
      "    year  economic_score\n",
      "0   1961       -0.110362\n",
      "1   1962        0.083751\n",
      "2   1963        0.010650\n",
      "3   1964        0.083758\n",
      "4   1965        0.130486\n",
      "..   ...             ...\n",
      "58  2019        0.017638\n",
      "59  2020       -0.301602\n",
      "60  2021        0.148617\n",
      "61  2022        0.018845\n",
      "62  2023        0.029899\n",
      "\n",
      "[63 rows x 2 columns]\n"
     ]
    }
   ],
   "source": [
    "economics_data = pd.read_csv('data_files/socioeconomic_context_Data.csv')\n",
    "\n",
    "\n",
    "economics_data = economics_data.iloc[[1,5],].reset_index(drop=True)\n",
    "economics_data.drop(list(economics_data.columns)[0:2], axis=1, inplace=True)\n",
    "economics_data.drop(list(economics_data.columns)[1:3], axis=1, inplace=True)\n",
    "economics_data.drop(list(economics_data.columns)[-1:], axis=1, inplace=True)\n",
    "\n",
    "GDP_growth = np.array(economics_data.iloc[0][1:])\n",
    "normalized_GDP_growth = preprocessing.normalize([GDP_growth]).tolist()[0]\n",
    "\n",
    "unexployment_rate = np.array(economics_data.iloc[1][1:])\n",
    "normalized_unemployment_rate = preprocessing.normalize([unexployment_rate]).tolist()[0]\n",
    "\n",
    "economic_score = []\n",
    "year = []\n",
    "for index in range(len(normalized_GDP_growth)):\n",
    "    score = normalized_GDP_growth[index] - normalized_unemployment_rate[index]\n",
    "    economic_score.append(score)\n",
    "    year.append(1961+index)\n",
    "\n",
    "economics_df = pd.DataFrame({\n",
    "    'year': year,\n",
    "    'economic_score' : economic_score\n",
    "})\n",
    "\n",
    "print(economics_df)\n",
    "\n"
   ]
  },
  {
   "cell_type": "code",
   "execution_count": null,
   "id": "588e3465",
   "metadata": {},
   "outputs": [
    {
     "name": "stdout",
     "output_type": "stream",
     "text": [
      "Index(['year', 'bpm', 'nrgy', 'dnce', 'dB', 'live', 'val', 'dur', 'acous',\n",
      "       'spch', 'pop'],\n",
      "      dtype='object')\n",
      "False\n"
     ]
    }
   ],
   "source": [
    "music_60s = pd.read_csv('data_files/1960.csv')\n",
    "music_70s = pd.read_csv('data_files/1970.csv')\n",
    "music_80s = pd.read_csv('data_files/1980.csv')\n",
    "music_90s = pd.read_csv('data_files/1990.csv')\n",
    "music_00s = pd.read_csv('data_files/2000.csv')\n",
    "music_10s = pd.read_csv('data_files/2010.csv')\n",
    "\n",
    "music_df = pd.concat([music_60s, music_70s,music_80s,music_90s, music_00s, music_10s], ignore_index=True, axis=0)\n",
    "music_df= music_df.sort_values('year')\n",
    "\n",
    "music_df.drop(list(music_df.columns)[0:4], axis=1, inplace=True) \n",
    "print(music_df.isnull().values.any())#is there any null values in the table\n",
    "\n",
    "\n"
   ]
  },
  {
   "cell_type": "code",
   "execution_count": null,
   "id": "5dd8bb62",
   "metadata": {},
   "outputs": [
    {
     "name": "stdout",
     "output_type": "stream",
     "text": [
      "False\n"
     ]
    }
   ],
   "source": [
    "df = economics_df.merge(music_df, on = 'year')\n",
    "print(music_df.isnull().values.any())\n",
    "\n",
    "\n"
   ]
  }
 ],
 "metadata": {
  "kernelspec": {
   "display_name": "Python 3",
   "language": "python",
   "name": "python3"
  },
  "language_info": {
   "codemirror_mode": {
    "name": "ipython",
    "version": 3
   },
   "file_extension": ".py",
   "mimetype": "text/x-python",
   "name": "python",
   "nbconvert_exporter": "python",
   "pygments_lexer": "ipython3",
   "version": "3.11.5"
  }
 },
 "nbformat": 4,
 "nbformat_minor": 5
}
